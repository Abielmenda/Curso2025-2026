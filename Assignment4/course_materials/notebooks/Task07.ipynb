{
 "cells": [
  {
   "cell_type": "markdown",
   "metadata": {
    "id": "nOOPLCHF7hLB"
   },
   "source": [
    "**Task 07: Querying RDF(s)**"
   ]
  },
  {
   "cell_type": "code",
   "metadata": {
    "id": "Yl9npCt8n6m-",
    "ExecuteTime": {
     "end_time": "2025-10-11T12:20:37.228213Z",
     "start_time": "2025-10-11T12:20:29.283111Z"
    }
   },
   "source": [
    "!pip install rdflib\n",
    "import urllib.request\n",
    "url = 'https://raw.githubusercontent.com/FacultadInformatica-LinkedData/Curso2025-2026/refs/heads/master/Assignment4/course_materials/python/validation.py'\n",
    "urllib.request.urlretrieve(url, 'validation.py')\n",
    "github_storage = \"https://raw.githubusercontent.com/FacultadInformatica-LinkedData/Curso2025-2026/master/Assignment4/course_materials\""
   ],
   "outputs": [
    {
     "name": "stdout",
     "output_type": "stream",
     "text": [
      "Requirement already satisfied: rdflib in /opt/anaconda3/lib/python3.11/site-packages (7.2.1)\r\n",
      "Requirement already satisfied: pyparsing<4,>=2.1.0 in /opt/anaconda3/lib/python3.11/site-packages (from rdflib) (3.0.9)\r\n"
     ]
    }
   ],
   "execution_count": 1
  },
  {
   "cell_type": "code",
   "source": [
    "from validation import Report"
   ],
   "metadata": {
    "id": "FmnGjffDT92V",
    "ExecuteTime": {
     "end_time": "2025-10-11T12:20:46.177640Z",
     "start_time": "2025-10-11T12:20:45.727700Z"
    }
   },
   "outputs": [],
   "execution_count": 2
  },
  {
   "cell_type": "markdown",
   "metadata": {
    "id": "XY7aPc86Bqoo"
   },
   "source": [
    "First let's read the RDF file"
   ]
  },
  {
   "cell_type": "code",
   "metadata": {
    "id": "9ERh415on7kF",
    "ExecuteTime": {
     "end_time": "2025-10-11T12:20:53.702402Z",
     "start_time": "2025-10-11T12:20:53.475935Z"
    }
   },
   "source": [
    "from rdflib import Graph, Namespace, Literal\n",
    "from rdflib.namespace import RDF, RDFS\n",
    "# Do not change the name of the variables\n",
    "g = Graph()\n",
    "g.namespace_manager.bind('ns', Namespace(\"http://somewhere#\"), override=False)\n",
    "g.parse(github_storage+\"/rdf/data06.ttl\", format=\"TTL\")\n",
    "report = Report()"
   ],
   "outputs": [],
   "execution_count": 3
  },
  {
   "cell_type": "markdown",
   "metadata": {
    "id": "qp1oe2Eddsvo"
   },
   "source": [
    "**TASK 7.1a: For all classes, list each classURI. If the class belogs to another class, then list its superclass.**\n",
    "**Do the exercise in RDFLib returning a list of Tuples: (class, superclass) called \"result\". If a class does not have a super class, then return None as the superclass**"
   ]
  },
  {
   "cell_type": "code",
   "metadata": {
    "id": "tRcSWuMHOXBl",
    "ExecuteTime": {
     "end_time": "2025-10-11T12:27:28.494983Z",
     "start_time": "2025-10-11T12:27:28.486459Z"
    }
   },
   "source": [
    "from rdflib import Namespace, URIRef\n",
    "from rdflib.namespace import RDF, RDFS\n",
    "\n",
    "ontology = Namespace(\"http://oeg.fi.upm.es/def/people#\")\n",
    "ONT = str(ontology)\n",
    "\n",
    "def in_ontology(u):\n",
    "    return isinstance(u, URIRef) and str(u).startswith(ONT)\n",
    "\n",
    "\n",
    "\n",
    "classes = set()\n",
    "\n",
    "for c in g.subjects(RDF.type, RDFS.Class):\n",
    "    if in_ontology(c):\n",
    "        classes.add(c)\n",
    "\n",
    "for c in g.subjects(RDFS.subClassOf, None):\n",
    "    if in_ontology(c):\n",
    "        classes.add(c)\n",
    "\n",
    "for c in g.objects(None, RDFS.subClassOf):\n",
    "    if in_ontology(c):\n",
    "        classes.add(c)\n",
    "\n",
    "\n",
    "result = []\n",
    "for c in sorted(classes, key=lambda u: str(u)):\n",
    "\n",
    "    supers = [s for s in g.objects(c, RDFS.subClassOf) if in_ontology(s)]\n",
    "    sup = supers[0] if supers else None\n",
    "    result.append((c, sup))\n",
    "\n",
    "for r in result:\n",
    "    print(r)\n"
   ],
   "outputs": [
    {
     "name": "stdout",
     "output_type": "stream",
     "text": [
      "(rdflib.term.URIRef('http://oeg.fi.upm.es/def/people#Animal'), None)\n",
      "(rdflib.term.URIRef('http://oeg.fi.upm.es/def/people#AssociateProfessor'), rdflib.term.URIRef('http://oeg.fi.upm.es/def/people#Professor'))\n",
      "(rdflib.term.URIRef('http://oeg.fi.upm.es/def/people#FullProfessor'), rdflib.term.URIRef('http://oeg.fi.upm.es/def/people#Professor'))\n",
      "(rdflib.term.URIRef('http://oeg.fi.upm.es/def/people#InterimAssociateProfessor'), rdflib.term.URIRef('http://oeg.fi.upm.es/def/people#AssociateProfessor'))\n",
      "(rdflib.term.URIRef('http://oeg.fi.upm.es/def/people#Person'), None)\n",
      "(rdflib.term.URIRef('http://oeg.fi.upm.es/def/people#Professor'), rdflib.term.URIRef('http://oeg.fi.upm.es/def/people#Person'))\n",
      "(rdflib.term.URIRef('http://oeg.fi.upm.es/def/people#Student'), rdflib.term.URIRef('http://oeg.fi.upm.es/def/people#Person'))\n"
     ]
    }
   ],
   "execution_count": 10
  },
  {
   "cell_type": "code",
   "source": [
    "## Validation: Do not remove\n",
    "report.validate_07_1a(result)"
   ],
   "metadata": {
    "id": "uvEpQQrTlMPH",
    "ExecuteTime": {
     "end_time": "2025-10-11T12:27:36.294474Z",
     "start_time": "2025-10-11T12:27:36.291088Z"
    }
   },
   "outputs": [
    {
     "name": "stdout",
     "output_type": "stream",
     "text": [
      "TASK 7.1a OK\n"
     ]
    }
   ],
   "execution_count": 12
  },
  {
   "cell_type": "markdown",
   "source": [
    "**TASK 7.1b: Repeat the same exercise in SPARQL, returning the variables ?c (class) and ?sc (superclass)**"
   ],
   "metadata": {
    "id": "kbY-jqw6klr9"
   }
  },
  {
   "cell_type": "code",
   "source": [
    "query = \"\"\"\n",
    "PREFIX rdf:  <http://www.w3.org/1999/02/22-rdf-syntax-ns#>\n",
    "PREFIX rdfs: <http://www.w3.org/2000/01/rdf-schema#>\n",
    "PREFIX ontology: <http://oeg.fi.upm.es/def/people#>\n",
    "\n",
    "SELECT ?c (SAMPLE(?sc) AS ?sc) WHERE {\n",
    "  {\n",
    "    ?c a rdfs:Class .\n",
    "  } UNION {\n",
    "    ?c rdfs:subClassOf ?x .\n",
    "  } UNION {\n",
    "    ?x rdfs:subClassOf ?c .\n",
    "  }\n",
    "\n",
    "  FILTER(STRSTARTS(STR(?c), STR(ontology:)))\n",
    "\n",
    "  OPTIONAL {\n",
    "    ?c rdfs:subClassOf ?sc .\n",
    "    FILTER(STRSTARTS(STR(?sc), STR(ontology:)))\n",
    "  }\n",
    "}\n",
    "GROUP BY ?c\n",
    "ORDER BY ?c\n",
    "\"\"\"\n",
    "\n",
    "for r in g.query(query):\n",
    "    print(r.c, r.sc)\n",
    "\n",
    "\n"
   ],
   "metadata": {
    "id": "NGAG7l9UklMC",
    "ExecuteTime": {
     "end_time": "2025-10-11T12:34:21.862720Z",
     "start_time": "2025-10-11T12:34:21.809535Z"
    }
   },
   "outputs": [
    {
     "name": "stdout",
     "output_type": "stream",
     "text": [
      "http://oeg.fi.upm.es/def/people#Animal None\n",
      "http://oeg.fi.upm.es/def/people#AssociateProfessor http://oeg.fi.upm.es/def/people#Professor\n",
      "http://oeg.fi.upm.es/def/people#FullProfessor http://oeg.fi.upm.es/def/people#Professor\n",
      "http://oeg.fi.upm.es/def/people#InterimAssociateProfessor http://oeg.fi.upm.es/def/people#AssociateProfessor\n",
      "http://oeg.fi.upm.es/def/people#Person None\n",
      "http://oeg.fi.upm.es/def/people#Professor http://oeg.fi.upm.es/def/people#Person\n",
      "http://oeg.fi.upm.es/def/people#Student http://oeg.fi.upm.es/def/people#Person\n"
     ]
    }
   ],
   "execution_count": 23
  },
  {
   "cell_type": "code",
   "source": [
    "## Validation: Do not remove\n",
    "report.validate_07_1b(query,g)"
   ],
   "metadata": {
    "id": "9zf4vgVHlKR3",
    "ExecuteTime": {
     "end_time": "2025-10-11T12:34:23.936667Z",
     "start_time": "2025-10-11T12:34:23.851598Z"
    }
   },
   "outputs": [
    {
     "name": "stdout",
     "output_type": "stream",
     "text": [
      "TASK 7.1b OK\n"
     ]
    }
   ],
   "execution_count": 24
  },
  {
   "cell_type": "markdown",
   "metadata": {
    "id": "gM3DASkTQQ5Y"
   },
   "source": [
    "**TASK 7.2a: List all individuals of \"Person\" with RDFLib (remember the subClasses). Return the individual URIs in a list called \"individuals\"**\n"
   ]
  },
  {
   "cell_type": "code",
   "metadata": {
    "id": "LiKSPHRzS-XJ",
    "ExecuteTime": {
     "end_time": "2025-10-11T12:35:45.918845Z",
     "start_time": "2025-10-11T12:35:45.912229Z"
    }
   },
   "source": [
    "from rdflib import Namespace\n",
    "from rdflib.namespace import RDF, RDFS\n",
    "\n",
    "\n",
    "ns = Namespace(\"http://oeg.fi.upm.es/def/people#\")\n",
    "\n",
    "\n",
    "classes = {ns.Person}\n",
    "changed = True\n",
    "while changed:\n",
    "    changed = False\n",
    "    for c, _, parent in g.triples((None, RDFS.subClassOf, None)):\n",
    "        if parent in classes and c not in classes:\n",
    "            classes.add(c)\n",
    "            changed = True\n",
    "\n",
    "\n",
    "indiv_set = set()\n",
    "for cls in classes:\n",
    "    for s in g.subjects(RDF.type, cls):\n",
    "        indiv_set.add(s)\n",
    "\n",
    "\n",
    "individuals = sorted(indiv_set, key=lambda x: str(x))\n",
    "\n",
    "\n",
    "for i in individuals:\n",
    "    print(i)\n"
   ],
   "outputs": [
    {
     "name": "stdout",
     "output_type": "stream",
     "text": [
      "http://oeg.fi.upm.es/def/people#Asun\n",
      "http://oeg.fi.upm.es/def/people#Oscar\n",
      "http://oeg.fi.upm.es/def/people#Raul\n"
     ]
    }
   ],
   "execution_count": 25
  },
  {
   "cell_type": "code",
   "source": [
    "# validation. Do not remove\n",
    "report.validate_07_02a(individuals)"
   ],
   "metadata": {
    "id": "ONrAls5uiX1G",
    "ExecuteTime": {
     "end_time": "2025-10-11T12:35:47.798277Z",
     "start_time": "2025-10-11T12:35:47.795065Z"
    }
   },
   "outputs": [
    {
     "name": "stdout",
     "output_type": "stream",
     "text": [
      "TASK 7.2a OK\n"
     ]
    }
   ],
   "execution_count": 26
  },
  {
   "cell_type": "markdown",
   "source": [
    "**TASK 7.2b: Repeat the same exercise in SPARQL, returning the individual URIs in a variable ?ind**"
   ],
   "metadata": {
    "id": "up-952A-za7A"
   }
  },
  {
   "cell_type": "code",
   "source": [
    "query = \"\"\"\n",
    "PREFIX rdf:  <http://www.w3.org/1999/02/22-rdf-syntax-ns#>\n",
    "PREFIX rdfs: <http://www.w3.org/2000/01/rdf-schema#>\n",
    "PREFIX ontology: <http://oeg.fi.upm.es/def/people#>\n",
    "\n",
    "SELECT DISTINCT ?ind WHERE {\n",
    "  ?ind rdf:type ?c .\n",
    "  ?c rdfs:subClassOf* ontology:Person .\n",
    "}\n",
    "ORDER BY ?ind\n",
    "\"\"\"\n",
    "\n",
    "for r in g.query(query):\n",
    "  print(r.ind)\n",
    "# Visualize the results"
   ],
   "metadata": {
    "id": "ipYiEVbTzbR0",
    "ExecuteTime": {
     "end_time": "2025-10-11T12:36:42.809183Z",
     "start_time": "2025-10-11T12:36:42.794215Z"
    }
   },
   "outputs": [
    {
     "name": "stdout",
     "output_type": "stream",
     "text": [
      "http://oeg.fi.upm.es/def/people#Asun\n",
      "http://oeg.fi.upm.es/def/people#Oscar\n",
      "http://oeg.fi.upm.es/def/people#Raul\n"
     ]
    }
   ],
   "execution_count": 27
  },
  {
   "cell_type": "code",
   "source": [
    "## Validation: Do not remove\n",
    "report.validate_07_02b(g, query)"
   ],
   "metadata": {
    "id": "s-Hu2LxRjUQt",
    "ExecuteTime": {
     "end_time": "2025-10-11T12:36:46.701043Z",
     "start_time": "2025-10-11T12:36:46.680471Z"
    }
   },
   "outputs": [
    {
     "name": "stdout",
     "output_type": "stream",
     "text": [
      "TASK 7.2b OK\n"
     ]
    }
   ],
   "execution_count": 28
  },
  {
   "cell_type": "markdown",
   "source": [
    "**TASK 7.3:  List the name and type of those who know Rocky (in SPARQL only). Use name and type as variables in the query**"
   ],
   "metadata": {
    "id": "3NyI7M2VNr9R"
   }
  },
  {
   "cell_type": "code",
   "source": [
    "query = \"\"\"\n",
    "PREFIX rdf:  <http://www.w3.org/1999/02/22-rdf-syntax-ns#>\n",
    "PREFIX rdfs: <http://www.w3.org/2000/01/rdf-schema#>\n",
    "PREFIX ontology: <http://oeg.fi.upm.es/def/people#>\n",
    "\n",
    "SELECT DISTINCT ?name ?type WHERE {\n",
    "  ?s ontology:knows ontology:Rocky .\n",
    "  ?s rdf:type ?type .\n",
    "  OPTIONAL { ?s ontology:hasName ?n1 }\n",
    "  OPTIONAL { ?s rdfs:label        ?n2 }\n",
    "  BIND(COALESCE(?n1, ?n2) AS ?name)\n",
    "}\n",
    "ORDER BY ?name\n",
    "\"\"\"\n",
    "\n",
    "# TO DO\n",
    "# Visualize the results\n",
    "for r in g.query(query):\n",
    "  print(r.name, r.type)\n"
   ],
   "metadata": {
    "id": "I_CNoIKdNpbx",
    "ExecuteTime": {
     "end_time": "2025-10-11T12:54:27.298168Z",
     "start_time": "2025-10-11T12:54:27.266129Z"
    }
   },
   "outputs": [
    {
     "name": "stdout",
     "output_type": "stream",
     "text": [
      "Asun http://oeg.fi.upm.es/def/people#FullProfessor\n",
      "Fantasma http://oeg.fi.upm.es/def/people#Animal\n",
      "Raul http://oeg.fi.upm.es/def/people#InterimAssociateProfessor\n"
     ]
    }
   ],
   "execution_count": 51
  },
  {
   "cell_type": "code",
   "source": [
    "## Validation: Do not remove\n",
    "report.validate_07_03(g, query)"
   ],
   "metadata": {
    "id": "Zf3JS7tEhS2t",
    "ExecuteTime": {
     "end_time": "2025-10-11T12:54:29.264067Z",
     "start_time": "2025-10-11T12:54:29.233508Z"
    }
   },
   "outputs": [
    {
     "name": "stdout",
     "output_type": "stream",
     "text": [
      "TASK 7.3 OK\n"
     ]
    }
   ],
   "execution_count": 52
  },
  {
   "cell_type": "markdown",
   "source": [
    "**Task 7.4: List the name of those entities who have a colleague with a dog, or that have a collegue who has a colleague who has a dog (in SPARQL). Return the results in a variable called name**"
   ],
   "metadata": {
    "id": "kyjGsyxDPa2C"
   }
  },
  {
   "cell_type": "code",
   "source": [
    "query = \"\"\"\n",
    "PREFIX rdf:  <http://www.w3.org/1999/02/22-rdf-syntax-ns#>\n",
    "PREFIX rdfs: <http://www.w3.org/2000/01/rdf-schema#>\n",
    "PREFIX ontology: <http://oeg.fi.upm.es/def/people#>\n",
    "\n",
    "SELECT DISTINCT ?name WHERE {\n",
    "  { ?s ontology:hasColleague/ontology:ownsPet ?p .\n",
    "    ?p rdf:type ontology:Animal . }\n",
    "\n",
    "  UNION\n",
    "\n",
    "  { ?s ontology:hasColleague/ontology:hasColleague/ontology:ownsPet ?p2 .\n",
    "    ?p2 rdf:type ontology:Animal . }\n",
    "\n",
    "  OPTIONAL { ?s ontology:hasName ?n1 }\n",
    "  OPTIONAL { ?s rdfs:label        ?n2 }\n",
    "  BIND(COALESCE(?n1, ?n2) AS ?name)\n",
    "}\n",
    "ORDER BY ?name\n",
    "\"\"\"\n",
    "\n",
    "\n",
    "\n",
    "for r in g.query(query):\n",
    "  print(r.name)\n",
    "\n",
    "# TO DO\n",
    "# Visualize the results"
   ],
   "metadata": {
    "id": "yoVwVZUAPaLm",
    "ExecuteTime": {
     "end_time": "2025-10-11T12:58:02.357174Z",
     "start_time": "2025-10-11T12:58:02.320125Z"
    }
   },
   "outputs": [
    {
     "name": "stdout",
     "output_type": "stream",
     "text": [
      "Asun\n",
      "Oscar Corcho García\n",
      "Raul\n"
     ]
    }
   ],
   "execution_count": 57
  },
  {
   "cell_type": "code",
   "source": [
    "## Validation: Do not remove\n",
    "report.validate_07_04(g,query)\n",
    "report.save_report(\"_Task_07\")"
   ],
   "metadata": {
    "id": "zcTZE7ngj2fc",
    "ExecuteTime": {
     "end_time": "2025-10-11T12:58:04.053068Z",
     "start_time": "2025-10-11T12:58:04.011311Z"
    }
   },
   "outputs": [
    {
     "name": "stdout",
     "output_type": "stream",
     "text": [
      "TASK 7.4 OK\n"
     ]
    }
   ],
   "execution_count": 58
  }
 ],
 "metadata": {
  "colab": {
   "provenance": []
  },
  "kernelspec": {
   "display_name": "Python 3 (ipykernel)",
   "language": "python",
   "name": "python3"
  },
  "language_info": {
   "codemirror_mode": {
    "name": "ipython",
    "version": 3
   },
   "file_extension": ".py",
   "mimetype": "text/x-python",
   "name": "python",
   "nbconvert_exporter": "python",
   "pygments_lexer": "ipython3",
   "version": "3.9.5"
  }
 },
 "nbformat": 4,
 "nbformat_minor": 0
}
